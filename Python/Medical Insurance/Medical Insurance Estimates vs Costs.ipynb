{
 "cells": [
  {
   "cell_type": "markdown",
   "id": "e98761ab",
   "metadata": {},
   "source": [
    "# Python Loops: Medical Insurance Estimates vs. Costs Project"
   ]
  },
  {
   "cell_type": "markdown",
   "id": "df03b1a1",
   "metadata": {},
   "source": [
    "You are interested in analyzing medical insurance cost data efficiently without writing repetitive code.\n",
    "\n",
    "In this project, you will use your new knowledge of Python loops to iterate through and analyze medical insurance cost data.\n",
    "\n",
    "Let's get started!"
   ]
  },
  {
   "cell_type": "markdown",
   "id": "c998217a",
   "metadata": {},
   "source": [
    "## Creating a For Loop"
   ]
  },
  {
   "cell_type": "markdown",
   "id": "2592cec5",
   "metadata": {},
   "source": [
    "1. First, let's take a look at three lists in the code block below:\n",
    "   - `names` stores the names of seven individuals.\n",
    "   - `estimated_insurance_costs` stores the estimated medical insurance costs for the individuals.\n",
    "   - `actual_insurance_costs` stores the actual insurance costs paid by the individuals.\n",
    "   \n",
    "   We want to calculate the average insurance cost each person paid. We'll start by adding up all of the insurance costs.\n",
    "   \n",
    "   Create a variable `total_cost` and initialize it to `0`."
   ]
  },
  {
   "cell_type": "code",
   "execution_count": 1,
   "id": "72878500",
   "metadata": {},
   "outputs": [],
   "source": [
    "names = [\"Judith\", \"Abel\", \"Tyson\", \"Martha\", \"Beverley\", \"David\", \"Anabel\"]\n",
    "estimated_insurance_costs = [1000.0, 2000.0, 3000.0, 4000.0, 5000.0, 6000.0, 7000.0]\n",
    "actual_insurance_costs = [1100.0, 2200.0, 3300.0, 4400.0, 5500.0, 6600.0, 7700.0]\n",
    "\n",
    "total_cost = 0"
   ]
  },
  {
   "cell_type": "markdown",
   "id": "fb8a1013",
   "metadata": {},
   "source": [
    "2. Use a `for` loop to iterate through `actual_insurance_costs` and add each insurance cost to the variable `total_cost`."
   ]
  },
  {
   "cell_type": "code",
   "execution_count": 2,
   "id": "76678624",
   "metadata": {},
   "outputs": [],
   "source": [
    "for insurance_cost in actual_insurance_costs:\n",
    "    total_cost += insurance_cost"
   ]
  },
  {
   "cell_type": "markdown",
   "id": "fb8eb492",
   "metadata": {},
   "source": [
    "3. After the `for` loop, create a variable called `average_cost` that stores the `total_cost` divided by the length of the `actual_insurance_costs` list."
   ]
  },
  {
   "cell_type": "code",
   "execution_count": 3,
   "id": "bf2b953e",
   "metadata": {},
   "outputs": [],
   "source": [
    "average_cost = total_cost/len(actual_insurance_costs)"
   ]
  },
  {
   "cell_type": "markdown",
   "id": "d69877c3",
   "metadata": {},
   "source": [
    "4. Print `average_cost` with the following message:\n",
    "\n",
    "   ```\n",
    "   Average Insurance Cost: <average_cost> dollars.\n",
    "   ```"
   ]
  },
  {
   "cell_type": "code",
   "execution_count": 4,
   "id": "2f9b7f5b",
   "metadata": {},
   "outputs": [
    {
     "name": "stdout",
     "output_type": "stream",
     "text": [
      "Average Insurance Cost: 4400.0 dollars.\n"
     ]
    }
   ],
   "source": [
    "print(\"Average Insurance Cost: \" + str(average_cost) + \" dollars.\")"
   ]
  },
  {
   "cell_type": "markdown",
   "id": "2f278e93",
   "metadata": {},
   "source": [
    "## Using Range in Loops"
   ]
  },
  {
   "cell_type": "markdown",
   "id": "9c672a71",
   "metadata": {},
   "source": [
    "5. For each individual in `names`, we want to determine whether their insurance cost is above or below average.\n",
    "\n",
    "   Write a `for` loop with variable `i` that goes from `0` to `len(names)`.\n",
    "   \n",
    "\n",
    "   \n",
    "6. Inside of the `for` loop, do the following:\n",
    "   - Create a variable `name`, which stores `names[i]`.\n",
    "   - Create a variable `insurance_cost`, which stores `actual_insurance_costs[i]`.\n",
    "   - Print out the insurance cost for each individual, with the following message:\n",
    "   ```\n",
    "   The insurance cost for <name> is <insurance_cost> dollars.\n",
    "   ```"
   ]
  },
  {
   "cell_type": "code",
   "execution_count": 6,
   "id": "9b668f2b",
   "metadata": {},
   "outputs": [
    {
     "name": "stdout",
     "output_type": "stream",
     "text": [
      "The insurance cost for Judith is 1100.0 dollars.\n",
      "The insurance cost for Abel is 2200.0 dollars.\n",
      "The insurance cost for Tyson is 3300.0 dollars.\n",
      "The insurance cost for Martha is 4400.0 dollars.\n",
      "The insurance cost for Beverley is 5500.0 dollars.\n",
      "The insurance cost for David is 6600.0 dollars.\n",
      "The insurance cost for Anabel is 7700.0 dollars.\n"
     ]
    }
   ],
   "source": [
    "for i in range(len(names)):\n",
    "    name = names[i]\n",
    "    insurance_cost = actual_insurance_costs[i]\n",
    "    print(\"The insurance cost for \" + name + \" is \" + str(insurance_cost) + \" dollars.\")"
   ]
  },
  {
   "cell_type": "markdown",
   "id": "67b953cf",
   "metadata": {},
   "source": [
    "7. Observe the result above.\n",
    "\n",
    "   You should see the insurance costs for each of the seven individuals in `names`. The `for` loop iterated through the entire list and printed out the insurance cost for each individual."
   ]
  },
  {
   "cell_type": "markdown",
   "id": "c8c372d6",
   "metadata": {},
   "source": [
    "## Conditions inside a Loop"
   ]
  },
  {
   "cell_type": "markdown",
   "id": "e830fc22",
   "metadata": {},
   "source": [
    "8. Inside of the `for` loop, use `if`, `elif`, `else` statements after the `print` statement to check whether the insurance cost is above, below, or equal to the average. Print out messages for each case:\n",
    "   - When `insurance_cost` is higher than the average, print out the following:\n",
    "   ```\n",
    "   The insurance cost for <name> is above average.\n",
    "   ```\n",
    "   - When `insurance_cost` is lower than the average, print out the following:\n",
    "   ```\n",
    "   The insurance cost for <name> is below average.\n",
    "   ```\n",
    "   - Otherwise, print out the following:\n",
    "   ```\n",
    "   The insurance cost for <name> is equal to the average.\n",
    "   ```"
   ]
  },
  {
   "cell_type": "code",
   "execution_count": 7,
   "id": "12a16ae3",
   "metadata": {},
   "outputs": [
    {
     "name": "stdout",
     "output_type": "stream",
     "text": [
      "The insurance cost for Judith is 1100.0 dollars.\n",
      "The insurance cost for Judith is below average.\n",
      "The insurance cost for Abel is 2200.0 dollars.\n",
      "The insurance cost for Abel is below average.\n",
      "The insurance cost for Tyson is 3300.0 dollars.\n",
      "The insurance cost for Tyson is below average.\n",
      "The insurance cost for Martha is 4400.0 dollars.\n",
      "The insurance cost for Martha is equal to the average.\n",
      "The insurance cost for Beverley is 5500.0 dollars.\n",
      "The insurance cost for Beverley is above average.\n",
      "The insurance cost for David is 6600.0 dollars.\n",
      "The insurance cost for David is above average.\n",
      "The insurance cost for Anabel is 7700.0 dollars.\n",
      "The insurance cost for Anabel is above average.\n"
     ]
    }
   ],
   "source": [
    "for i in range(len(names)):\n",
    "    name = names[i]\n",
    "    insurance_cost = actual_insurance_costs[i]\n",
    "    print(\"The insurance cost for \" + name + \" is \" + str(insurance_cost) + \" dollars.\")\n",
    "    if insurance_cost > average_cost:\n",
    "        print(\"The insurance cost for \" + name + \" is above average.\")\n",
    "    elif insurance_cost < average_cost:\n",
    "        print(\"The insurance cost for \" + name + \" is below average.\")\n",
    "    else:\n",
    "        print(\"The insurance cost for \" + name + \" is equal to the average.\")"
   ]
  },
  {
   "cell_type": "markdown",
   "id": "2c93bc13",
   "metadata": {},
   "source": [
    "9. Observe the output above.\n",
    "\n",
    "   You should see messages indicating the insurance cost for each of the seven individuals and where their insurance cost stands relative to the average."
   ]
  },
  {
   "cell_type": "markdown",
   "id": "3e464142",
   "metadata": {},
   "source": [
    "## Creating a List Comprehension"
   ]
  },
  {
   "cell_type": "markdown",
   "id": "4760a215",
   "metadata": {},
   "source": [
    "10. If you look closely at `actual_insurance_costs` and `estimated_insurance_costs`, you will notice that each of the actual insurance costs is 10% higher than the estimated insurance costs.\n",
    " \n",
    "    Using a list comprehension, create a new list called `updated_estimated_costs`, which has each element in `estimated_insurance_costs` multiplied by `11/10`."
   ]
  },
  {
   "cell_type": "code",
   "execution_count": 8,
   "id": "438b339d",
   "metadata": {},
   "outputs": [],
   "source": [
    "updated_estimated_costs = [estimated_cost * 11/10 for estimated_cost in estimated_insurance_costs]"
   ]
  },
  {
   "cell_type": "markdown",
   "id": "cce8ab1f",
   "metadata": {},
   "source": [
    "11. Print `updated_estimated_costs`.\n",
    "\n",
    "    You should see that the list now looks the same as `actual_insurance_costs`."
   ]
  },
  {
   "cell_type": "code",
   "execution_count": 9,
   "id": "76452514",
   "metadata": {},
   "outputs": [
    {
     "name": "stdout",
     "output_type": "stream",
     "text": [
      "[1100.0, 2200.0, 3300.0, 4400.0, 5500.0, 6600.0, 7700.0]\n"
     ]
    }
   ],
   "source": [
    "print(updated_estimated_costs)"
   ]
  }
 ],
 "metadata": {
  "kernelspec": {
   "display_name": "Python 3 (ipykernel)",
   "language": "python",
   "name": "python3"
  },
  "language_info": {
   "codemirror_mode": {
    "name": "ipython",
    "version": 3
   },
   "file_extension": ".py",
   "mimetype": "text/x-python",
   "name": "python",
   "nbconvert_exporter": "python",
   "pygments_lexer": "ipython3",
   "version": "3.12.1"
  }
 },
 "nbformat": 4,
 "nbformat_minor": 5
}
